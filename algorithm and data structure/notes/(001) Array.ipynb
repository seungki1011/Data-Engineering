{
 "cells": [
  {
   "cell_type": "code",
   "execution_count": 1,
   "id": "9fd790d4-61f8-4ff5-8c1f-924109dc8e91",
   "metadata": {},
   "outputs": [
    {
     "data": {
      "text/plain": [
       "'3.10.0 (default, Jul  4 2023, 14:18:20) [Clang 14.0.3 (clang-1403.0.22.14.1)]'"
      ]
     },
     "execution_count": 1,
     "metadata": {},
     "output_type": "execute_result"
    }
   ],
   "source": [
    "import sys\n",
    "sys.version"
   ]
  },
  {
   "cell_type": "markdown",
   "id": "8dd175f4-debb-4c11-8aa5-11867b750a2c",
   "metadata": {},
   "source": [
    "## Array (배열)\n",
    "---"
   ]
  },
  {
   "cell_type": "markdown",
   "id": "a0756f30-c67f-4ee1-9614-802a0a362a56",
   "metadata": {},
   "source": [
    "<p align=\"center\"> <img src=\"img/array1.png\" alt=\"data structure\" style=\"width: 75%;\"> </p>"
   ]
  },
  {
   "cell_type": "markdown",
   "id": "67ab407d-b578-4413-9949-c33ac28dc1dc",
   "metadata": {},
   "source": [
    "---\n",
    "배열에 대해서 알아보자.\n",
    "* 배열에는 같은 종류의 데이터들이 순차적으로 저장되어 있다\n",
    "* 배열의 첫 번째 요소의 메모리 주소를 첫 번째 주소, 기본 주소, 시작 주소라고 한다\n",
    "* random access(임의 접근)가 가능하다\n",
    "    * 배열의 크기에 상관 없이 인덱스를 알고 있으면 해당 원소로 접근하는데 걸리는 시간은 O(1)이다\n",
    "* 메모리 주소가 연속될 것을 요구하기 때문에 배열의 크기를 늘리는 것은 절대 불가능하다\n",
    "* 배열의 크기를 늘릴 필요가 있을 때에는 크기가 큰 새 배열을 만들고 기존 내용을 복사하거나, 배열의 일부를 연결 리스트 등으로 다른 곳과 연결하는 등의 방법이 쓰인다"
   ]
  },
  {
   "cell_type": "markdown",
   "id": "ac803b4f-825e-4386-8715-1b00ca99d92f",
   "metadata": {},
   "source": [
    "---"
   ]
  },
  {
   "cell_type": "markdown",
   "id": "35f49a05-5c74-421a-90d8-5a58919d7bec",
   "metadata": {},
   "source": [
    "배열에서 사용할 수 있는 연산은 보통 다음과 같다.\n",
    "* 일정한 길이의 빈 배열을 만든다\n",
    "* 배열의 길이를 알아본다\n",
    "* 주어진 위치에 있는 원소를 알아본다, 원소를 찾는 데에 드는 시간은 O(1)\n",
    "* 주어진 위치에 새로운 원소를 대입한다, 마찬가지로 위치를 찾는 데에 걸리는 시간은 O(1)\n",
    "* 주어진 위치에 있는 원소를 삭제한다, 이때 배열의 길이가 하나 줄어들며 O(n)만큼의 시간이 걸린다"
   ]
  },
  {
   "cell_type": "markdown",
   "id": "509777f4-35b4-45f2-9caa-992ff2ec7e87",
   "metadata": {},
   "source": [
    "---\n",
    "> 파이썬에서 배열 대신 리스트를 사용하며, 리스트는 dynamic array로 구현이 되어있다."
   ]
  },
  {
   "cell_type": "code",
   "execution_count": null,
   "id": "f1f1a9d9-1dc9-46b4-bf83-012600f8777f",
   "metadata": {},
   "outputs": [],
   "source": []
  }
 ],
 "metadata": {
  "kernelspec": {
   "display_name": "Python 3 (ipykernel)",
   "language": "python",
   "name": "python3"
  },
  "language_info": {
   "codemirror_mode": {
    "name": "ipython",
    "version": 3
   },
   "file_extension": ".py",
   "mimetype": "text/x-python",
   "name": "python",
   "nbconvert_exporter": "python",
   "pygments_lexer": "ipython3",
   "version": "3.10.0"
  }
 },
 "nbformat": 4,
 "nbformat_minor": 5
}
